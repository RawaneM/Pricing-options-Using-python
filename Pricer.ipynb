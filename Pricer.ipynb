{
 "cells": [
  {
   "cell_type": "markdown",
   "metadata": {},
   "source": [
    "### Two ways to create a CDF  "
   ]
  },
  {
   "cell_type": "code",
   "execution_count": 1,
   "metadata": {},
   "outputs": [
    {
     "data": {
      "text/plain": [
       "'The erf() function (error function at x) can be used to compute traditional statistical functions such as the CDF\\nIn statistics, for nonnegative values of x, the error function has the following interpretation: \\nfor a random variable Y that is normally distributed with mean 0 and variance 0.5, erf(x) describes \\nthe probability of Y falling in the range [−x, x].'"
      ]
     },
     "execution_count": 1,
     "metadata": {},
     "output_type": "execute_result"
    }
   ],
   "source": [
    "# 1st solution\n",
    "from math import *\n",
    "def CND(X):\n",
    "    (a1,a2,a3,a4,a5)=(0.31938153,-0.356563782,1.781477937,-1.821255978,1.330274429)\n",
    "    L = abs(X)\n",
    "    K=1.0/(1.0+0.2316419*L)\n",
    "    w=1.0-1.0/sqrt(2*pi)*exp(-L*L/2.)*(a1*K+a2*K*K+a3*pow(K,3)+a4*pow(K,4)+a5*pow(K,5))\n",
    "    if X<0:\n",
    "        w = 1.0-w\n",
    "    return w\n",
    "# print(CND(1))\n",
    "\n",
    "# 3nd \n",
    "\n",
    "# 2nd solution\n",
    "def phi(x):\n",
    "    return (1.0 + erf(x / sqrt(2.0))) / 2.0\n",
    "'''The erf() function (error function at x) can be used to compute traditional statistical functions such as the CDF\n",
    "In statistics, for nonnegative values of x, the error function has the following interpretation: \n",
    "for a random variable Y that is normally distributed with mean 0 and variance 0.5, erf(x) describes \n",
    "the probability of Y falling in the range [−x, x].'''\n",
    "# phi(1)"
   ]
  },
  {
   "cell_type": "markdown",
   "metadata": {},
   "source": [
    "### Black Schole Merton model"
   ]
  },
  {
   "cell_type": "code",
   "execution_count": 2,
   "metadata": {},
   "outputs": [],
   "source": [
    "from math import*\n",
    "def BSM_price(S,K,t,vol,r,opt_type):\n",
    "    d0 = log(S/(K*exp(-r*t)))*(1/(vol*sqrt(t)))-(0.5*vol*sqrt(t))\n",
    "    d1 = d0 + vol*sqrt(t)\n",
    "    if opt_type == \"call\" :\n",
    "        BSM_price = S*phi(d1) - K*exp(-r*t)*phi(d0)\n",
    "    elif opt_type == \"put\":\n",
    "        BSM_price = K*exp(-r*t)*phi(-d0) - S*phi(-d1) \n",
    "    else :\n",
    "        print(\"error\")\n",
    "    return BSM_price\n",
    "# BSM_price(50,50,1,0.2,0.01,'call')"
   ]
  },
  {
   "cell_type": "markdown",
   "metadata": {},
   "source": [
    "### Monte-carlo simulation GBM"
   ]
  },
  {
   "cell_type": "code",
   "execution_count": 12,
   "metadata": {},
   "outputs": [
    {
     "data": {
      "text/plain": [
       "1.8711621838271286"
      ]
     },
     "execution_count": 12,
     "metadata": {},
     "output_type": "execute_result"
    }
   ],
   "source": [
    "import math\n",
    "import numpy as np\n",
    "# Vanilla option\n",
    "def Monte_Carlo(S,K,t,vol,r,N_sim,n_path):\n",
    "    dt = t/n_path ; payoff_call = 0\n",
    "    for i in range(N_sim):\n",
    "        x = S\n",
    "        for j in range(n_path):\n",
    "            norm = np.random.normal(0,1)\n",
    "            x = x * math.exp((r - (vol**2)/2)*dt + vol*norm*math.sqrt(dt))\n",
    "        payoff_call += max(x-K,0)\n",
    "    payoff_call = payoff_call / N_sim\n",
    "    return payoff_call*math.exp(-r*t)\n",
    "\n",
    "Monte_Carlo(20,20,1,0.2,0.03,10000,200)"
   ]
  },
  {
   "cell_type": "markdown",
   "metadata": {},
   "source": [
    "# Heston"
   ]
  },
  {
   "cell_type": "code",
   "execution_count": 4,
   "metadata": {},
   "outputs": [
    {
     "name": "stdout",
     "output_type": "stream",
     "text": [
      "15.360613449948126\n"
     ]
    }
   ],
   "source": [
    "import math as m\n",
    "def Heston_price(S,K,t,vol,r,volvol,theta,kappa,rho,n,M,opt_type):\n",
    "    pr=[]\n",
    "    dt=t/M\n",
    "    s=np.zeros(M+1)\n",
    "    v=np.zeros(M+1)\n",
    "    pr=np.zeros(n+1)\n",
    "    s[0]=S\n",
    "    v[0]=vol\n",
    "    for j in range(n):\n",
    "        for i in range(1,M+1):\n",
    "            dW1=np.random.normal()*m.sqrt(dt)\n",
    "            dW2=rho*dW1 + m.sqrt(1-rho**2)*np.random.normal()*m.sqrt(dt)\n",
    "            v[i]=v[i-1]+kappa*(theta-v[i-1])*dt+volvol*m.sqrt(v[i-1])*dW2\n",
    "            s[i]=s[i-1]+s[i-1]*(r*dt+m.sqrt(v[i-1])*dW1)\n",
    "        if opt_type=='call':\n",
    "            pr[j]=max(s[M]-K,0)\n",
    "        elif opt_type=='put':\n",
    "            pr[j]=max(K-s[M],0)\n",
    "        else:\n",
    "            print('option type not valid. please enter ''call'' or ''put''')\n",
    "    return np.mean(pr)*m.exp(-r*t)\n",
    "            \n",
    "print(Heston_price(100,100,1,0.15,0.03,0.15,0.125,1.05,-0.5,100,252,'call'))"
   ]
  },
  {
   "cell_type": "markdown",
   "metadata": {},
   "source": [
    "### Extract implied volatility using Newton Raphson"
   ]
  },
  {
   "cell_type": "code",
   "execution_count": 5,
   "metadata": {},
   "outputs": [],
   "source": [
    "def Implied_vol(market_p, S, K, t, r, opt_type):\n",
    "    delta_x = 10^-10 \n",
    "    EPS = 10^-5\n",
    "    cur_x = 0.2\n",
    "    for i in range(10): \n",
    "        fx = market_p - BSM_price(S,K,t,cur_x,r,opt_type)\n",
    "        imp_vol = cur_x - delta_x\n",
    "        fx_delta = market_p - BSM_price(S,K,t,imp_vol,r,opt_type)\n",
    "        dx = (fx - fx_delta) / delta_x\n",
    "        if abs(dx) < EPS :\n",
    "            break\n",
    "        cur_x = cur_x - (fx/dx)\n",
    "    return(cur_x)\n",
    "# Implied_vol(2.65,20,20,1,0.03,'call')"
   ]
  },
  {
   "cell_type": "markdown",
   "metadata": {},
   "source": [
    "### Finite difference method"
   ]
  },
  {
   "cell_type": "code",
   "execution_count": 6,
   "metadata": {},
   "outputs": [],
   "source": [
    "import numpy as np\n",
    "def greek_finite_diff(function,*args):\n",
    "    print('\\033[1m'+'Spot price = 0 , Rate = 2, Time = 3, Volatility = 4, STOP = 99 \\n'+'\\033[0m')\n",
    "    checkvarb=[0,2,3,4] ; dx = 0.000001 ; checkordr=[1,2]\n",
    "    while True:\n",
    "        varb=int(input('select your variable\\n'))\n",
    "        if varb in checkvarb:\n",
    "            ordr=int(input('select the order of differentiation \\n'))\n",
    "            if ordr==1:\n",
    "                print((function(*args[:varb],args[varb]+dx,*args[varb+1:])-function(*args))/dx)\n",
    "            elif ordr==2:\n",
    "                print((function(*args[:varb],args[varb]+dx,*args[varb+1:])-2*function(*args)+function(*args[:varb],args[varb]-dx,*args[varb+1:]))/dx**2)\n",
    "            else:\n",
    "                break\n",
    "        else:\n",
    "            break\n",
    "    return 'DONE'\n",
    "# print(greek_finite_diff(BSM_price,20,20,0.01,1,0.2,'call'))"
   ]
  },
  {
   "cell_type": "markdown",
   "metadata": {},
   "source": [
    "### Pricer 3 in 1"
   ]
  },
  {
   "cell_type": "code",
   "execution_count": 28,
   "metadata": {},
   "outputs": [
    {
     "data": {
      "text/html": [
       "<div>\n",
       "<style scoped>\n",
       "    .dataframe tbody tr th:only-of-type {\n",
       "        vertical-align: middle;\n",
       "    }\n",
       "\n",
       "    .dataframe tbody tr th {\n",
       "        vertical-align: top;\n",
       "    }\n",
       "\n",
       "    .dataframe thead th {\n",
       "        text-align: right;\n",
       "    }\n",
       "</style>\n",
       "<table border=\"1\" class=\"dataframe\">\n",
       "  <thead>\n",
       "    <tr style=\"text-align: right;\">\n",
       "      <th></th>\n",
       "      <th>Pricing</th>\n",
       "    </tr>\n",
       "  </thead>\n",
       "  <tbody>\n",
       "    <tr>\n",
       "      <th>Price</th>\n",
       "      <td>1.882681</td>\n",
       "    </tr>\n",
       "    <tr>\n",
       "      <th>Delta</th>\n",
       "      <td>0.598706</td>\n",
       "    </tr>\n",
       "    <tr>\n",
       "      <th>Gamma</th>\n",
       "      <td>0.088818</td>\n",
       "    </tr>\n",
       "    <tr>\n",
       "      <th>Theta</th>\n",
       "      <td>1.076079</td>\n",
       "    </tr>\n",
       "    <tr>\n",
       "      <th>Vega</th>\n",
       "      <td>7.733363</td>\n",
       "    </tr>\n",
       "    <tr>\n",
       "      <th>Rho</th>\n",
       "      <td>10.091460</td>\n",
       "    </tr>\n",
       "  </tbody>\n",
       "</table>\n",
       "</div>"
      ],
      "text/plain": [
       "         Pricing\n",
       "Price   1.882681\n",
       "Delta   0.598706\n",
       "Gamma   0.088818\n",
       "Theta   1.076079\n",
       "Vega    7.733363\n",
       "Rho    10.091460"
      ]
     },
     "execution_count": 28,
     "metadata": {},
     "output_type": "execute_result"
    }
   ],
   "source": [
    "import numpy as np\n",
    "import pandas as pd\n",
    "def pricer(function,*args):\n",
    "    price = function(*args) ; greeks = [price] ; dx=0.000001\n",
    "    for varb in range(5) : \n",
    "        if varb == 1 :\n",
    "            gamma = (function(*args[:varb-1],args[varb-1]+dx,*args[varb:])-2*function(*args)+function(*args[:varb-1],args[varb-1]-dx,*args[varb:]))/dx**2\n",
    "            greeks.append(gamma)\n",
    "        else :\n",
    "            greek = (function(*args[:varb],args[varb]+dx,*args[varb+1:])-function(*args))/dx\n",
    "            greeks.append(greek)\n",
    "    df = pd.DataFrame(greeks,index=('Price','Delta','Gamma','Theta','Vega','Rho'))\n",
    "    df.columns = [\"Pricing\"]\n",
    "    return df\n",
    "pricer(BSM_price,20,20,1,0.2,0.03,'call')"
   ]
  },
  {
   "cell_type": "code",
   "execution_count": null,
   "metadata": {},
   "outputs": [],
   "source": []
  }
 ],
 "metadata": {
  "kernelspec": {
   "display_name": "Python 3",
   "language": "python",
   "name": "python3"
  },
  "language_info": {
   "codemirror_mode": {
    "name": "ipython",
    "version": 3
   },
   "file_extension": ".py",
   "mimetype": "text/x-python",
   "name": "python",
   "nbconvert_exporter": "python",
   "pygments_lexer": "ipython3",
   "version": "3.6.5"
  }
 },
 "nbformat": 4,
 "nbformat_minor": 2
}
